{
 "cells": [
  {
   "cell_type": "code",
   "execution_count": 8,
   "id": "b26233a9-61d7-48c6-b1bb-0567e84cea0a",
   "metadata": {},
   "outputs": [
    {
     "name": "stdout",
     "output_type": "stream",
     "text": [
      "Game Board: The game is played on a 3x3 grid.\n",
      "Players: The game is played by two players, one using X and the other O.\n",
      "Turns: Players take turns placing their marks in empty cells. A cell is selected by specifying its row and column. You have to enter the row number and column number to fill the empty cell.\n",
      "Winning: A player wins if they have three of their marks in a horizontal, vertical, or diagonal row.\n",
      "Draw: The game is a draw if all cells are filled and no player has won.\n",
      "Do you want to play:\n",
      "Enter:\n",
      " Y - for Yes\n",
      " N - for No\n"
     ]
    },
    {
     "name": "stdin",
     "output_type": "stream",
     "text": [
      " y\n"
     ]
    },
    {
     "name": "stdout",
     "output_type": "stream",
     "text": [
      "Enter your choice:\n",
      "X or O\n"
     ]
    },
    {
     "name": "stdin",
     "output_type": "stream",
     "text": [
      " x\n"
     ]
    },
    {
     "name": "stdout",
     "output_type": "stream",
     "text": [
      "User choice: X\n",
      "Computer choice: O\n",
      "  |   |  \n",
      "- + - + -\n",
      "  |   |  \n",
      "- + - + -\n",
      "  |   |  \n"
     ]
    },
    {
     "name": "stdin",
     "output_type": "stream",
     "text": [
      "Enter row (0, 1, 2):  1\n",
      "Enter column (0, 1, 2):  2\n"
     ]
    },
    {
     "name": "stdout",
     "output_type": "stream",
     "text": [
      "  |   |  \n",
      "- + - + -\n",
      "  | O | X\n",
      "- + - + -\n",
      "  |   |  \n"
     ]
    },
    {
     "name": "stdin",
     "output_type": "stream",
     "text": [
      "Enter row (0, 1, 2):  0\n",
      "Enter column (0, 1, 2):  2\n"
     ]
    },
    {
     "name": "stdout",
     "output_type": "stream",
     "text": [
      "O |   | X\n",
      "- + - + -\n",
      "  | O | X\n",
      "- + - + -\n",
      "  |   |  \n"
     ]
    },
    {
     "name": "stdin",
     "output_type": "stream",
     "text": [
      "Enter row (0, 1, 2):  2\n",
      "Enter column (0, 1, 2):  0\n"
     ]
    },
    {
     "name": "stdout",
     "output_type": "stream",
     "text": [
      "O |   | X\n",
      "- + - + -\n",
      "  | O | X\n",
      "- + - + -\n",
      "X |   | O\n",
      "Computer won the match\n",
      "Do you want to play:\n",
      "Enter:\n",
      " Y - for Yes\n",
      " N - for No\n"
     ]
    },
    {
     "name": "stdin",
     "output_type": "stream",
     "text": [
      " n\n"
     ]
    },
    {
     "name": "stdout",
     "output_type": "stream",
     "text": [
      "_____Game Exit_____\n"
     ]
    }
   ],
   "source": [
    "import random\n",
    "\n",
    "print(\"Game Board: The game is played on a 3x3 grid.\")\n",
    "print(\"Players: The game is played by two players, one using X and the other O.\")\n",
    "print(\"Turns: Players take turns placing their marks in empty cells. A cell is selected by specifying its row and column. You have to enter the row number and column number to fill the empty cell.\")\n",
    "print(\"Winning: A player wins if they have three of their marks in a horizontal, vertical, or diagonal row.\")\n",
    "print(\"Draw: The game is a draw if all cells are filled and no player has won.\")\n",
    "\n",
    "def print_block(l):\n",
    "    for row in l:\n",
    "        print(\" \".join(row))\n",
    "\n",
    "def block_emptycheck(l):\n",
    "    for i in range(0, 5, 2):\n",
    "        for j in range(0, 5, 2):\n",
    "            if l[i][j] == \" \":\n",
    "                return True\n",
    "    return False\n",
    "\n",
    "def check(l, i, j):\n",
    "    return l[i][j] == \" \"\n",
    "\n",
    "def block_input(i, j):\n",
    "    return 2 * i, 2 * j\n",
    "\n",
    "\n",
    "def check_winner(l, player):\n",
    "    for i in range(0, 5, 2):\n",
    "        if l[i][0] == l[i][2] == l[i][4] == player:\n",
    "            return True\n",
    "        if l[0][i] == l[2][i] == l[4][i] == player:\n",
    "            return True\n",
    "    if l[0][0] == l[2][2] == l[4][4] == player:\n",
    "        return True\n",
    "    if l[0][4] == l[2][2] == l[4][0] == player:\n",
    "        return True\n",
    "    return False\n",
    "\n",
    "x = True\n",
    "while x:\n",
    "    print(\"Do you want to play:\")\n",
    "    print(\"Enter:\")\n",
    "    print(\" Y - for Yes\")\n",
    "    print(\" N - for No\")\n",
    "    ch = input().strip()\n",
    "    if ch == \"Y\" or ch == \"y\":\n",
    "        rows = 5\n",
    "        cols = 5\n",
    "        l = [[\" \" for _ in range(cols)] for _ in range(rows)]\n",
    "        \n",
    "        print(\"Enter your choice:\")\n",
    "        print(\"X or O\")\n",
    "        user_choice = input().strip()\n",
    "        if user_choice == \"X\" or user_choice == \"x\":\n",
    "            user = \"X\"\n",
    "            com = \"O\"\n",
    "        else:\n",
    "            user = \"O\"\n",
    "            com = \"X\"\n",
    "        print(\"User choice:\", user)\n",
    "        print(\"Computer choice:\", com)\n",
    "        \n",
    "        for i in range(rows):\n",
    "            for j in range(cols):\n",
    "                if i % 2 == 0:\n",
    "                    if j % 2 == 1:\n",
    "                        l[i][j] = '|'\n",
    "                if j % 2 == 0:\n",
    "                    if i % 2 == 1:\n",
    "                        l[i][j] = '-'\n",
    "                if i % 2 == 1 and j % 2 == 1:\n",
    "                    l[i][j] = '+'\n",
    "        \n",
    "        while block_emptycheck(l):\n",
    "            print_block(l)\n",
    "            user_row = int(input(\"Enter row (0, 1, 2): \"))\n",
    "            user_col = int(input(\"Enter column (0, 1, 2): \"))\n",
    "            if 0 <= user_row <= 2 and 0 <= user_col <= 2:\n",
    "                user_row, user_col = block_input(user_row, user_col)\n",
    "                if check(l, user_row, user_col):\n",
    "                    l[user_row][user_col] = user\n",
    "                    if check_winner(l, user):\n",
    "                        print_block(l)\n",
    "                        print(\"You won the match\")\n",
    "                        break\n",
    "                else:\n",
    "                    print(\"Cell already occupied! Try again.\")\n",
    "                    continue\n",
    "            else:\n",
    "                print(\"Invalid input! Try again.\")\n",
    "                continue\n",
    "            \n",
    "            if not block_emptycheck(l):\n",
    "                break\n",
    "\n",
    "            # Computer move\n",
    "            while True:\n",
    "                com_row = random.randint(0, 2)\n",
    "                com_col = random.randint(0, 2)\n",
    "                com_row, com_col = block_input(com_row, com_col)\n",
    "                if check(l, com_row, com_col):\n",
    "                    l[com_row][com_col] = com\n",
    "                    break\n",
    "\n",
    "            if check_winner(l, com):\n",
    "                print_block(l)\n",
    "                print(\"Computer won the match\")\n",
    "                break\n",
    "\n",
    "        if not check_winner(l, user) and not check_winner(l, com):\n",
    "            print(\"Draw match\")\n",
    "    \n",
    "    elif ch == \"N\" or ch == \"n\":\n",
    "        x = False\n",
    "        print(\"_____Game Exit_____\")\n"
   ]
  },
  {
   "cell_type": "code",
   "execution_count": null,
   "id": "e3058f00-c593-4ebe-970f-d7a3fbd48165",
   "metadata": {},
   "outputs": [],
   "source": []
  }
 ],
 "metadata": {
  "kernelspec": {
   "display_name": "Python 3 (ipykernel)",
   "language": "python",
   "name": "python3"
  },
  "language_info": {
   "codemirror_mode": {
    "name": "ipython",
    "version": 3
   },
   "file_extension": ".py",
   "mimetype": "text/x-python",
   "name": "python",
   "nbconvert_exporter": "python",
   "pygments_lexer": "ipython3",
   "version": "3.12.4"
  }
 },
 "nbformat": 4,
 "nbformat_minor": 5
}
